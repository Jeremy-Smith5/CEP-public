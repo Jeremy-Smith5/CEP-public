{
 "cells": [
  {
   "cell_type": "code",
   "execution_count": null,
   "metadata": {},
   "outputs": [],
   "source": [
    "# set up a connection to SQL Server and pull some data \n",
    "# first, import the required package and define parameters \n",
    "\n",
    "import pyodbc  # this is the built-in package for making ODBC connections\n",
    "\n",
    "# driver\n",
    "drv = 'ODBC Driver 17 for SQL Server'\n",
    "# server\n",
    "svr = 'vhacdwrb02.vha.med.va.gov'\n",
    "# database\n",
    "db = 'ORD_Davies_202110040D'\n",
    "# schema\n",
    "sch = 'Dflt'\n",
    "# table \n",
    "tbl = 'rad_rows_kept'\n",
    "\n",
    "incols = '''\n",
    "patientICN, examDateTime, radsrc, RadNucMedReportSID, lungdxdt_minus_repdt, age, sentID, item, dim1mm, dim2mm, dim3mm, sent\n",
    "'''"
   ]
  },
  {
   "cell_type": "code",
   "execution_count": null,
   "metadata": {},
   "outputs": [],
   "source": [
    "# read SQL table created by notebook read_rad_notes into a Pandas dataframe called 'indata'\n",
    "import pandas as pd\n",
    "import numpy as np\n",
    "\n",
    "conn = pyodbc.connect('Driver={%s};Server=%s;Database=%s;Trusted_Connection=yes;' % (drv, svr, db))\n",
    "cursor = conn.cursor()\n",
    "\n",
    "qry = 'select %s from [%s].[%s].[%s]' % (incols, db, sch, tbl)\n",
    "\n",
    "indata = pd.read_sql(qry, conn)\n",
    "\n",
    "conn.close()\n",
    "\n",
    "# calculate max nodule size for each record, sort by patient / exam date, and take first record for each pt\n",
    "indata['repdate'] = pd.to_datetime(indata['examDateTime']).dt.date\n",
    "\n",
    "# for now, reset nodule dimensions > 75 mm to missing - this might be too restrictive\n",
    "vars = ['dim1mm', 'dim2mm', 'dim3mm']\n",
    "for v in vars:\n",
    "    indata.loc[indata[v] > 75, v] = np.NaN\n",
    "\n",
    "\n",
    "indata['max_mm'] = indata[['dim1mm', 'dim2mm', 'dim3mm']].max(axis = 1)\n",
    "\n",
    "print(indata.head())"
   ]
  },
  {
   "cell_type": "code",
   "execution_count": null,
   "metadata": {},
   "outputs": [],
   "source": [
    "import datetime\n",
    "\n",
    "preonly = indata.loc[(indata['lungdxdt_minus_repdt']>=0) & (indata['lungdxdt_minus_repdt']<90)]\n",
    "# & (indata['repdate']>=datetime.date(2018, 4, 1))]\n",
    "\n",
    "preonly.sort_values(by = ['patientICN', 'examDateTime'], ascending = [True, False], inplace = True)\n",
    "\n",
    "#indata.sort_values(by = ['patientICN', 'examDateTime'], ascending = [True, True], inplace = True)\n",
    "\n",
    "#firstrep = indata.groupby('patientICN').nth(0)\n",
    "firstrep = preonly.groupby('patientICN').nth(0)\n",
    "\n",
    "print(len(firstrep.index))"
   ]
  },
  {
   "cell_type": "code",
   "execution_count": null,
   "metadata": {},
   "outputs": [],
   "source": [
    "# keep just columns of interest and do some re-naming\n",
    "forplot = firstrep[['examDateTime', 'max_mm', 'lungdxdt_minus_repdt', 'age']].rename(columns = {'lungdxdt_minus_repdt':'lead_time'})\n",
    "\n",
    "#forplot.set_index('examDateTime')\n",
    "#forplot.drop(columns = ['patientICN'])\n",
    "#forplot.rename(columns={'lungdxdt_minus_repdt':'lead_time'}, inplace = True)\n",
    "print(forplot.head())"
   ]
  },
  {
   "cell_type": "code",
   "execution_count": null,
   "metadata": {},
   "outputs": [],
   "source": [
    "formodel = forplot.copy()\n",
    "\n",
    "formodel['isPan'] = 0\n",
    "formodel.loc[formodel['examDateTime'] >= datetime.datetime(2020, 3, 1), 'isPan'] = 1\n",
    "\n",
    "def cw(row):\n",
    "    if \\\n",
    "       (\n",
    "        row['examDateTime'] >= datetime.datetime(2019, 3, 1) \\\n",
    "        and \\\n",
    "        row['examDateTime'] < datetime.datetime(2019, 6, 1) \\\n",
    "        ) \\\n",
    "    or \\\n",
    "       (\n",
    "        row['examDateTime'] >= datetime.datetime(2020, 3, 1) \\\n",
    "        and \\\n",
    "        row['examDateTime'] < datetime.datetime(2020, 6, 1) \\\n",
    "        ):\n",
    "        val = 1\n",
    "        \n",
    "    elif \\\n",
    "       (\n",
    "        row['examDateTime'] >= datetime.datetime(2019, 6, 1) \\\n",
    "        and \\\n",
    "        row['examDateTime'] < datetime.datetime(2019, 9, 1) \\\n",
    "        ) \\\n",
    "    or \\\n",
    "       (\n",
    "        row['examDateTime'] >= datetime.datetime(2020, 6, 1) \\\n",
    "        and \\\n",
    "        row['examDateTime'] < datetime.datetime(2020, 9, 1) \\\n",
    "        ):\n",
    "        val = 2\n",
    "        \n",
    "    elif \\\n",
    "       (\n",
    "        row['examDateTime'] >= datetime.datetime(2019, 9, 1) \\\n",
    "        and \\\n",
    "        row['examDateTime'] < datetime.datetime(2019, 12, 1) \\\n",
    "        ) \\\n",
    "    or \\\n",
    "       (\n",
    "        row['examDateTime'] >= datetime.datetime(2020, 9, 1) \\\n",
    "        and \\\n",
    "        row['examDateTime'] < datetime.datetime(2020, 12, 1) \\\n",
    "        ):\n",
    "        val = 3\n",
    "        \n",
    "    elif \\\n",
    "       (\n",
    "        row['examDateTime'] >= datetime.datetime(2019, 12, 1) \\\n",
    "        and \\\n",
    "        row['examDateTime'] < datetime.datetime(2020, 3, 1) \\\n",
    "        ) \\\n",
    "    or \\\n",
    "       (\n",
    "        row['examDateTime'] >= datetime.datetime(2020, 12, 1) \\\n",
    "        and \\\n",
    "        row['examDateTime'] < datetime.datetime(2021, 3, 1) \\\n",
    "        ):\n",
    "        val = 4\n",
    "    else:\n",
    "        val = np.NaN\n",
    "  \n",
    "    return val\n",
    "\n",
    "formodel['compwin'] = formodel.apply(cw, axis = 1)    \n",
    "\n",
    "print (formodel.head())\n",
    "\n"
   ]
  },
  {
   "cell_type": "code",
   "execution_count": null,
   "metadata": {},
   "outputs": [],
   "source": [
    "import scipy\n",
    "#dir(scipy.stats)\n",
    "import statsmodels.api as sm\n",
    "import statsmodels.formula.api as smf \n",
    "from matplotlib import pyplot as plt\n",
    "\n",
    "print (dir(sm.families))"
   ]
  },
  {
   "cell_type": "code",
   "execution_count": null,
   "metadata": {},
   "outputs": [],
   "source": [
    "allmm = formodel[['max_mm']].to_numpy()\n",
    "\n",
    "hist, bins = np.histogram(allmm, range = (1, 75))\n",
    "#print (hist)\n",
    "\n",
    "plt.hist(allmm, bins = bins)"
   ]
  },
  {
   "cell_type": "code",
   "execution_count": null,
   "metadata": {},
   "outputs": [],
   "source": [
    "help(smf.glm)"
   ]
  },
  {
   "cell_type": "code",
   "execution_count": null,
   "metadata": {},
   "outputs": [],
   "source": [
    "model = 'max_mm ~ isPan+age+lead_time'\n",
    "\n",
    "wind = {\n",
    "    1: 'Mar-May',\n",
    "    2: 'Jun-Aug',\n",
    "    3: 'Sep-Nov',\n",
    "    4: 'Dec-Feb'\n",
    "}\n",
    "\n",
    "def winmodel(win):\n",
    "    windf = formodel.loc[formodel['compwin'] == win]\n",
    "    #print (windf.head())\n",
    "    mod = smf.glm(formula = model, data = windf, family = sm.families.Gamma())\n",
    "    result = mod.fit()\n",
    "    print ('\\n\\n********** RESULTS FOR WINDOW: %s ***********\\n' % wind[win])\n",
    "    print ('\\n...summary:\\n')\n",
    "    print (result.summary())\n",
    "    print ('\\n...coefficients:\\n')\n",
    "    print (result.params)\n",
    "    print ('\\n...p-values:\\n')\n",
    "    print (result.pvalues)"
   ]
  },
  {
   "cell_type": "code",
   "execution_count": null,
   "metadata": {},
   "outputs": [],
   "source": [
    "winmodel(1)\n",
    "winmodel(2)\n",
    "winmodel(3)\n",
    "winmodel(4)"
   ]
  },
  {
   "cell_type": "code",
   "execution_count": null,
   "metadata": {},
   "outputs": [],
   "source": []
  },
  {
   "cell_type": "code",
   "execution_count": null,
   "metadata": {},
   "outputs": [],
   "source": []
  },
  {
   "cell_type": "code",
   "execution_count": null,
   "metadata": {},
   "outputs": [],
   "source": []
  },
  {
   "cell_type": "code",
   "execution_count": null,
   "metadata": {},
   "outputs": [],
   "source": [
    "# calculate weekly means and counts and re-name the index to 'weekStarting'\n",
    "byweek = forplot.resample('1W', on = 'examDateTime').mean()\n",
    "byweek_count = forplot.resample('1W', on = 'examDateTime').agg({'max_mm':'count'}).rename(columns = {'max_mm':'nppl'})\n",
    "\n",
    "print (byweek.head())\n",
    "print (byweek_count.head())\n",
    "\n",
    "byweek = pd.merge(\n",
    "    byweek,\n",
    "    byweek_count,\n",
    "    left_on = ['examDateTime'],\n",
    "    right_on = ['examDateTime'],\n",
    "    how = 'inner'\n",
    ")\n",
    "\n",
    "byweek.index.names = ['weekStarting']\n",
    "\n",
    "del byweek_count\n",
    "print (byweek.head())"
   ]
  },
  {
   "cell_type": "code",
   "execution_count": null,
   "metadata": {},
   "outputs": [],
   "source": [
    "# calculate 12-week weighted moving averages \n",
    "byweek['sp_mm'] = byweek['max_mm'] * byweek['nppl']\n",
    "byweek['sp_lt'] = byweek['lead_time'] * byweek['nppl']\n",
    "byweek['sp_ag'] = byweek['age'] * byweek['nppl']\n",
    "\n",
    "rollingavg = byweek[['sp_mm', 'sp_lt', 'sp_ag', 'nppl']].rolling(12).sum()\n",
    "rollingavg['sp_mm'] = rollingavg['sp_mm'] / rollingavg['nppl']\n",
    "rollingavg['sp_lt'] = rollingavg['sp_lt'] / rollingavg['nppl']\n",
    "rollingavg['sp_ag'] = rollingavg['sp_ag'] / rollingavg['nppl']\n",
    "rollingavg['sp_nppl'] = rollingavg['nppl'] / 12\n",
    "rollingavg['sp_nppl_qc'] = byweek[['nppl']].rolling(12).mean()\n",
    "\n",
    "byweek = pd.merge(\n",
    "    byweek[['max_mm', 'lead_time', 'age', 'nppl']],\n",
    "    rollingavg[['sp_mm', 'sp_lt', 'sp_ag', 'sp_nppl', 'sp_nppl_qc']],\n",
    "    left_on = ['weekStarting'],\n",
    "    right_on = ['weekStarting'],\n",
    "    how = 'left'\n",
    ")\n",
    "\n",
    "print (byweek.head(30))"
   ]
  },
  {
   "cell_type": "code",
   "execution_count": null,
   "metadata": {},
   "outputs": [],
   "source": [
    "# make a plot...\n",
    "import matplotlib.pyplot as plt\n",
    "import numpy as np\n",
    "from datetime import datetime, timedelta\n",
    "from pandas.plotting import register_matplotlib_converters\n",
    "register_matplotlib_converters()"
   ]
  },
  {
   "cell_type": "code",
   "execution_count": null,
   "metadata": {},
   "outputs": [],
   "source": [
    "byweek2 = byweek.loc[datetime.date(2018,4,1):]\n",
    "byweek2.reset_index(inplace = True)\n",
    "\n",
    "#byweek2 = byweek.reset_index(inplace = False)\n",
    "print(byweek2.head())\n",
    "\n",
    "ws = byweek2[['weekStarting']].to_numpy()\n",
    "mm = byweek2[['max_mm']].to_numpy()\n",
    "lt = byweek2[['lead_time']].to_numpy()\n",
    "ag = byweek2[['age']].to_numpy()\n",
    "n = byweek2[['nppl']].to_numpy()\n",
    "mm12 = byweek2[['sp_mm']].to_numpy()\n",
    "lt12 = byweek2[['sp_lt']].to_numpy()\n",
    "ag12 = byweek2[['sp_ag']].to_numpy()\n",
    "n12 = byweek2[['sp_nppl']].to_numpy()\n",
    "\n"
   ]
  },
  {
   "cell_type": "code",
   "execution_count": null,
   "metadata": {},
   "outputs": [],
   "source": [
    "#ws[17]\n",
    "panstart = np.array(['2020-03-01T00:00:00.000000000'], dtype='datetime64[ns]')\n",
    "\n",
    "print (min(mm))\n",
    "np.where(np.in1d(ws, panstart))[0][0]\n",
    "\n",
    "#np.where(ws == ['2020-03-01T00:00:00.000000000'])[0]\n"
   ]
  },
  {
   "cell_type": "code",
   "execution_count": null,
   "metadata": {},
   "outputs": [],
   "source": [
    "dtlabs = pd.date_range(start = '20180301', end = '20220228', freq = 'W').strftime('%Y%m%d')\n",
    "#print(dtlabs[:6])\n",
    "dts = [d for i, d in enumerate(dtlabs) if i % 4 == 0]\n",
    "#print (dts[:6])"
   ]
  },
  {
   "cell_type": "code",
   "execution_count": null,
   "metadata": {},
   "outputs": [],
   "source": [
    "fig, ax1 = plt.subplots(figsize = (16, 6))\n",
    "\n",
    "ax2 = ax1.twinx()\n",
    "#print (type(fig), type(ax1), type(ax2))\n",
    "ax1.plot(ws, mm, color = 'red', linestyle = 'dotted', alpha = 0.2)\n",
    "ax2.plot(ws, n, color = 'black', linestyle = 'dotted', alpha = 0.2)\n",
    "\n",
    "ax1.plot(ws, mm12, color = 'red', linestyle = 'solid')\n",
    "ax2.plot(ws, n12, color = 'black', linestyle = 'solid')\n",
    "\n",
    "ax1.vlines(x = panstart, ymin = min(mm), ymax = max(mm), colors = 'black', \n",
    "           label = 'pandemic start', linestyles = 'dashed')\n",
    "ax1.set_xlabel('week')\n",
    "ax1.set_ylabel('mean nodule size (mm)')\n",
    "ax1.yaxis.label.set_color('red')\n",
    "ax2.set_ylabel('# of incident lung ca cases')\n",
    "ax2.yaxis.label.set_color('black')\n",
    "\n",
    "ax1.set_xticks(dts)\n",
    "ax1.set_xticklabels(dts, rotation = 90, ha = 'center')\n",
    "\n",
    "fig.suptitle('mean lung nodule size on incident scan, by week, Mar 2018-Feb 2022')\n",
    "fig.autofmt_xdate(rotation = 90)"
   ]
  },
  {
   "cell_type": "code",
   "execution_count": null,
   "metadata": {},
   "outputs": [],
   "source": [
    "figb, ax1b = plt.subplots(figsize = (16, 6))\n",
    "\n",
    "ax2b = ax1b.twinx()\n",
    "#print (type(fig), type(ax1), type(ax2))\n",
    "ax1b.plot(ws, mm, color = 'red', linestyle = 'dotted', alpha = 0.2)\n",
    "ax2b.plot(ws, ag, color = 'black', linestyle = 'dotted', alpha = 0.2)\n",
    "\n",
    "ax1b.plot(ws, mm12, color = 'red', linestyle = 'solid')\n",
    "ax2b.plot(ws, ag12, color = 'black', linestyle = 'solid')\n",
    "\n",
    "ax1b.vlines(x = panstart, ymin = min(mm), ymax = max(mm), colors = 'black', \n",
    "           label = 'pandemic start', linestyles = 'dashed')\n",
    "ax1b.set_xlabel('week')\n",
    "ax1b.set_ylabel('mean nodule size (mm)')\n",
    "ax1b.yaxis.label.set_color('red')\n",
    "ax2b.set_ylabel('mean age at scan')\n",
    "ax2b.yaxis.label.set_color('black')\n",
    "\n",
    "ax1b.set_xticks(dts)\n",
    "ax1b.set_xticklabels(dts, rotation = 90, ha = 'center')\n",
    "\n",
    "figb.suptitle('mean lung nodule size on incident scan, by week, Mar 2018-Feb 2022')\n",
    "figb.autofmt_xdate(rotation = 90)"
   ]
  },
  {
   "cell_type": "code",
   "execution_count": null,
   "metadata": {},
   "outputs": [],
   "source": [
    "# 'rb': right bound of 12-week date range\n",
    "# select 4 pre-pandemic windows and 4 pandemic windows with the same seasonality\n",
    "\n",
    "#pre1_rb = np.array(['2019-03-03T00:00:00.000000000'], dtype='datetime64[ns]')\n",
    "pre2_rb = np.array(['2019-05-26T00:00:00.000000000'], dtype='datetime64[ns]')\n",
    "pre3_rb = np.array(['2019-08-18T00:00:00.000000000'], dtype='datetime64[ns]')\n",
    "pre4_rb = np.array(['2019-11-10T00:00:00.000000000'], dtype='datetime64[ns]')\n",
    "pre5_rb = np.array(['2020-02-02T00:00:00.000000000'], dtype='datetime64[ns]')\n",
    "\n",
    "#pst1_rb = np.array(['2019-03-03T00:00:00.000000000'], dtype='datetime64[ns]')\n",
    "pst2_rb = np.array(['2020-05-24T00:00:00.000000000'], dtype='datetime64[ns]')\n",
    "pst3_rb = np.array(['2020-08-16T00:00:00.000000000'], dtype='datetime64[ns]')\n",
    "pst4_rb = np.array(['2020-11-08T00:00:00.000000000'], dtype='datetime64[ns]')\n",
    "pst5_rb = np.array(['2021-01-31T00:00:00.000000000'], dtype='datetime64[ns]')\n",
    "\n",
    "pre = [pre2_rb, pre3_rb, pre4_rb, pre5_rb]\n",
    "pst = [pst2_rb, pst3_rb, pst4_rb, pst5_rb]\n",
    "\n",
    "pre_x = []\n",
    "pst_x = []\n",
    "\n",
    "for w in pre:\n",
    "    pre_x.append(np.where(np.in1d(ws, w))[0][0])\n",
    "\n",
    "for w in pst:\n",
    "    pst_x.append(np.where(np.in1d(ws, w))[0][0])\n",
    "\n",
    "print(pre_x)\n",
    "print(pst_x)\n",
    "\n",
    "#ws[17]\n",
    "#panstart = np.array(['2020-03-01T00:00:00.000000000'], dtype='datetime64[ns]')\n",
    "\n",
    "#print (min(mm))\n",
    "#np.where(np.in1d(ws, panstart))[0][0]"
   ]
  },
  {
   "cell_type": "code",
   "execution_count": null,
   "metadata": {},
   "outputs": [],
   "source": [
    "import scipy\n",
    "#dir(scipy.stats)\n",
    "import statsmodels.api as sm\n",
    "import statsmodels.formula.api as smf "
   ]
  },
  {
   "cell_type": "code",
   "execution_count": null,
   "metadata": {},
   "outputs": [],
   "source": []
  },
  {
   "cell_type": "code",
   "execution_count": null,
   "metadata": {},
   "outputs": [],
   "source": []
  },
  {
   "cell_type": "code",
   "execution_count": null,
   "metadata": {},
   "outputs": [],
   "source": []
  },
  {
   "cell_type": "code",
   "execution_count": null,
   "metadata": {},
   "outputs": [],
   "source": [
    "print(byweek.head())\n",
    "plt.plot(byweek.sp_mm)"
   ]
  },
  {
   "cell_type": "code",
   "execution_count": null,
   "metadata": {},
   "outputs": [],
   "source": [
    "fig, ax1 = plt.subplots(figsize = (12, 6))\n",
    "ax2 = ax1.twinx()\n",
    "\n",
    "print (byweek.columns)"
   ]
  },
  {
   "cell_type": "code",
   "execution_count": null,
   "metadata": {},
   "outputs": [],
   "source": [
    "#wkticks = [pd.datetime(x[0]).dt.date for i, x in enumerate(list(ws)) if i % 2 == 0]\n",
    "#print(wkticks)\n",
    "#pd.datetime(ws[0][0]).dt.date"
   ]
  },
  {
   "cell_type": "code",
   "execution_count": null,
   "metadata": {},
   "outputs": [],
   "source": [
    "ax1 = byweek.plot(kind = 'line', x = 'weekStarting', y = 'sp_mm', color = 'Red')\n",
    "ax2 = byweek.plot(kind = 'line', x = 'weekStarting', y = 'sp_lt', color = 'Black',\n",
    "                 secondary_y = True, ax = ax1)\n",
    "\n",
    "fig = plt.figure()\n",
    "\n",
    "fig.title('mean lung nodule size on incident scan, by week, Mar 2018-Feb 2022')\n",
    "\n",
    "ax1.set_xlabel('week')\n",
    "ax1.set_ylabel('mean nodule size (mm)')\n",
    "ax2.set_ylabel('mean lead time (days)')\n",
    "\n",
    "fig.tight_layout()\n",
    "\n",
    "fig.show()\n"
   ]
  },
  {
   "cell_type": "code",
   "execution_count": null,
   "metadata": {},
   "outputs": [],
   "source": []
  },
  {
   "cell_type": "code",
   "execution_count": null,
   "metadata": {},
   "outputs": [],
   "source": []
  }
 ],
 "metadata": {
  "kernelspec": {
   "display_name": "Python 3",
   "language": "python",
   "name": "python3"
  },
  "language_info": {
   "codemirror_mode": {
    "name": "ipython",
    "version": 3
   },
   "file_extension": ".py",
   "mimetype": "text/x-python",
   "name": "python",
   "nbconvert_exporter": "python",
   "pygments_lexer": "ipython3",
   "version": "3.7.3"
  }
 },
 "nbformat": 4,
 "nbformat_minor": 2
}
